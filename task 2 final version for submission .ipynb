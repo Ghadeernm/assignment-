{
 "cells": [
  {
   "cell_type": "markdown",
   "metadata": {},
   "source": [
    "# UFCFVQ-15-M Programming for Data Science\n",
    "# Programming Task 2\n",
    "\n",
    "## Student Id: "
   ]
  },
  {
   "cell_type": "markdown",
   "metadata": {},
   "source": [
    "### Requirement FR2.1 - Read CSV data from a file (with a header row) into memory "
   ]
  },
  {
   "cell_type": "code",
   "execution_count": 3,
   "metadata": {},
   "outputs": [
    {
     "name": "stdout",
     "output_type": "stream",
     "text": [
      "       Unnamed: 0  id_student gender                region  \\\n",
      "0               0       11391      M   East Anglian Region   \n",
      "1               1       28400      F              Scotland   \n",
      "2               2       31604      F     South East Region   \n",
      "3               3       32885      F  West Midlands Region   \n",
      "4               4       38053      M                 Wales   \n",
      "...           ...         ...    ...                   ...   \n",
      "26741       26741     2620947      F              Scotland   \n",
      "26742       26742     2645731      F   East Anglian Region   \n",
      "26743       26743     2648187      F          South Region   \n",
      "26744       26744     2679821      F     South East Region   \n",
      "26745       26745     2684003      F      Yorkshire Region   \n",
      "\n",
      "           highest_education age_band disability final_result  score  \n",
      "0           HE Qualification     55<=          N         Pass   82.0  \n",
      "1           HE Qualification    35-55          N         Pass   67.0  \n",
      "2      A Level or Equivalent    35-55          N         Pass   76.0  \n",
      "3         Lower Than A Level     0-35          N         Pass   55.0  \n",
      "4      A Level or Equivalent    35-55          N         Pass   68.0  \n",
      "...                      ...      ...        ...          ...    ...  \n",
      "26741  A Level or Equivalent     0-35          Y  Distinction   89.0  \n",
      "26742     Lower Than A Level    35-55          N  Distinction   89.0  \n",
      "26743  A Level or Equivalent     0-35          Y         Pass   77.0  \n",
      "26744     Lower Than A Level    35-55          N    Withdrawn   92.0  \n",
      "26745       HE Qualification    35-55          N  Distinction   83.0  \n",
      "\n",
      "[26746 rows x 9 columns]\n"
     ]
    }
   ],
   "source": [
    "# add code here\n",
    "import pandas as pd\n",
    "dataFrame2a = pd.read_csv ('task2a.csv')\n",
    "print(dataFrame2a)"
   ]
  },
  {
   "cell_type": "markdown",
   "metadata": {},
   "source": [
    "### Requirement FR2.2 - Read CSV data from a file (without a header row) into memory"
   ]
  },
  {
   "cell_type": "code",
   "execution_count": 4,
   "metadata": {},
   "outputs": [
    {
     "name": "stdout",
     "output_type": "stream",
     "text": [
      "       id_student  click_events\n",
      "0            6516        2791.0\n",
      "1            8462         656.0\n",
      "2           11391         934.0\n",
      "3           23629           NaN\n",
      "4           23698         910.0\n",
      "...           ...           ...\n",
      "26069     2698251        1511.0\n",
      "26070     2698257         758.0\n",
      "26071     2698535        4241.0\n",
      "26072     2698577         717.0\n",
      "26073     2698588         605.0\n",
      "\n",
      "[26074 rows x 2 columns]\n"
     ]
    }
   ],
   "source": [
    "# add code here\n",
    "import pandas as pd\n",
    "\n",
    "#read the 2nd file without header with column name 'id_student', 'click_events'\n",
    "dataFrame2b = pd.read_csv(\"task2b.csv\",names=['id_student', 'click_events'], header=None) \n",
    "print(dataFrame2b)"
   ]
  },
  {
   "cell_type": "markdown",
   "metadata": {},
   "source": [
    "### Requirement FR2.3 - Merge the data from two Dataframes"
   ]
  },
  {
   "cell_type": "code",
   "execution_count": 7,
   "metadata": {},
   "outputs": [
    {
     "name": "stdout",
     "output_type": "stream",
     "text": [
      "       Unnamed: 0  id_student gender                region  \\\n",
      "0               0       11391      M   East Anglian Region   \n",
      "1               1       28400      F              Scotland   \n",
      "2               2       31604      F     South East Region   \n",
      "3               3       32885      F  West Midlands Region   \n",
      "4               4       38053      M                 Wales   \n",
      "...           ...         ...    ...                   ...   \n",
      "26716       26741     2620947      F              Scotland   \n",
      "26717       26742     2645731      F   East Anglian Region   \n",
      "26718       26743     2648187      F          South Region   \n",
      "26719       26744     2679821      F     South East Region   \n",
      "26720       26745     2684003      F      Yorkshire Region   \n",
      "\n",
      "           highest_education age_band disability final_result  score  \\\n",
      "0           HE Qualification     55<=          N         Pass   82.0   \n",
      "1           HE Qualification    35-55          N         Pass   67.0   \n",
      "2      A Level or Equivalent    35-55          N         Pass   76.0   \n",
      "3         Lower Than A Level     0-35          N         Pass   55.0   \n",
      "4      A Level or Equivalent    35-55          N         Pass   68.0   \n",
      "...                      ...      ...        ...          ...    ...   \n",
      "26716  A Level or Equivalent     0-35          Y  Distinction   89.0   \n",
      "26717     Lower Than A Level    35-55          N  Distinction   89.0   \n",
      "26718  A Level or Equivalent     0-35          Y         Pass   77.0   \n",
      "26719     Lower Than A Level    35-55          N    Withdrawn   92.0   \n",
      "26720       HE Qualification    35-55          N  Distinction   83.0   \n",
      "\n",
      "       click_events  \n",
      "0             934.0  \n",
      "1            1435.0  \n",
      "2            2158.0  \n",
      "3            1034.0  \n",
      "4            2445.0  \n",
      "...             ...  \n",
      "26716         476.0  \n",
      "26717         893.0  \n",
      "26718         312.0  \n",
      "26719         275.0  \n",
      "26720         616.0  \n",
      "\n",
      "[26721 rows x 10 columns]\n"
     ]
    }
   ],
   "source": [
    "# add code here\n",
    "import pandas as pd\n",
    "\n",
    "dataFrame2a = pd.read_csv(\"task2a.csv\")\n",
    "#read the 2nd file without header\n",
    "dataFrame2b = pd.read_csv(\"task2b.csv\",names=['id_student', 'click_events'], header=None) \n",
    "#using the merge function to merge the 2 dataFrames\n",
    "dataFrameMerged = pd.merge(dataFrame2a, dataFrame2b, on=['id_student'] )\n",
    "print(dataFrameMerged)"
   ]
  },
  {
   "cell_type": "markdown",
   "metadata": {},
   "source": [
    "### Requirement FR2.4 - Remove any rows that contain missing values"
   ]
  },
  {
   "cell_type": "code",
   "execution_count": 8,
   "metadata": {},
   "outputs": [
    {
     "name": "stdout",
     "output_type": "stream",
     "text": [
      "       Unnamed: 0  id_student gender                region  \\\n",
      "0               0       11391      M   East Anglian Region   \n",
      "1               1       28400      F              Scotland   \n",
      "2               2       31604      F     South East Region   \n",
      "3               3       32885      F  West Midlands Region   \n",
      "4               4       38053      M                 Wales   \n",
      "...           ...         ...    ...                   ...   \n",
      "26716       26741     2620947      F              Scotland   \n",
      "26717       26742     2645731      F   East Anglian Region   \n",
      "26718       26743     2648187      F          South Region   \n",
      "26719       26744     2679821      F     South East Region   \n",
      "26720       26745     2684003      F      Yorkshire Region   \n",
      "\n",
      "           highest_education age_band disability final_result  score  \\\n",
      "0           HE Qualification     55<=          N         Pass   82.0   \n",
      "1           HE Qualification    35-55          N         Pass   67.0   \n",
      "2      A Level or Equivalent    35-55          N         Pass   76.0   \n",
      "3         Lower Than A Level     0-35          N         Pass   55.0   \n",
      "4      A Level or Equivalent    35-55          N         Pass   68.0   \n",
      "...                      ...      ...        ...          ...    ...   \n",
      "26716  A Level or Equivalent     0-35          Y  Distinction   89.0   \n",
      "26717     Lower Than A Level    35-55          N  Distinction   89.0   \n",
      "26718  A Level or Equivalent     0-35          Y         Pass   77.0   \n",
      "26719     Lower Than A Level    35-55          N    Withdrawn   92.0   \n",
      "26720       HE Qualification    35-55          N  Distinction   83.0   \n",
      "\n",
      "       click_events  \n",
      "0             934.0  \n",
      "1            1435.0  \n",
      "2            2158.0  \n",
      "3            1034.0  \n",
      "4            2445.0  \n",
      "...             ...  \n",
      "26716         476.0  \n",
      "26717         893.0  \n",
      "26718         312.0  \n",
      "26719         275.0  \n",
      "26720         616.0  \n",
      "\n",
      "[25332 rows x 10 columns]\n"
     ]
    }
   ],
   "source": [
    "# add code here\n",
    "import pandas as pd\n",
    "\n",
    "dataFrame2a = pd.read_csv(\"task2a.csv\")\n",
    "#read the 2nd file without header\n",
    "dataFrame2b = pd.read_csv(\"task2b.csv\",names=['id_student', 'click_events'], header=None) \n",
    "#using the merge function to merge the 2 dataFrames\n",
    "dataFrameMerged = pd.merge(dataFrame2a, dataFrame2b, on=['id_student'] )\n",
    "#  Remove any rows that contain missing values using dropna()function  \n",
    "dataFrameMerged = dataFrameMerged.dropna()\n",
    "print(dataFrameMerged)"
   ]
  },
  {
   "cell_type": "markdown",
   "metadata": {},
   "source": [
    "### Requirement FR2.5 - Filter out unnecessary rows"
   ]
  },
  {
   "cell_type": "code",
   "execution_count": 9,
   "metadata": {},
   "outputs": [
    {
     "name": "stdout",
     "output_type": "stream",
     "text": [
      "       Unnamed: 0  id_student gender                region  \\\n",
      "0               0       11391      M   East Anglian Region   \n",
      "1               1       28400      F              Scotland   \n",
      "2               2       31604      F     South East Region   \n",
      "3               3       32885      F  West Midlands Region   \n",
      "4               4       38053      M                 Wales   \n",
      "...           ...         ...    ...                   ...   \n",
      "26716       26741     2620947      F              Scotland   \n",
      "26717       26742     2645731      F   East Anglian Region   \n",
      "26718       26743     2648187      F          South Region   \n",
      "26719       26744     2679821      F     South East Region   \n",
      "26720       26745     2684003      F      Yorkshire Region   \n",
      "\n",
      "           highest_education age_band disability final_result  score  \\\n",
      "0           HE Qualification     55<=          N         Pass   82.0   \n",
      "1           HE Qualification    35-55          N         Pass   67.0   \n",
      "2      A Level or Equivalent    35-55          N         Pass   76.0   \n",
      "3         Lower Than A Level     0-35          N         Pass   55.0   \n",
      "4      A Level or Equivalent    35-55          N         Pass   68.0   \n",
      "...                      ...      ...        ...          ...    ...   \n",
      "26716  A Level or Equivalent     0-35          Y  Distinction   89.0   \n",
      "26717     Lower Than A Level    35-55          N  Distinction   89.0   \n",
      "26718  A Level or Equivalent     0-35          Y         Pass   77.0   \n",
      "26719     Lower Than A Level    35-55          N    Withdrawn   92.0   \n",
      "26720       HE Qualification    35-55          N  Distinction   83.0   \n",
      "\n",
      "       click_events  \n",
      "0             934.0  \n",
      "1            1435.0  \n",
      "2            2158.0  \n",
      "3            1034.0  \n",
      "4            2445.0  \n",
      "...             ...  \n",
      "26716         476.0  \n",
      "26717         893.0  \n",
      "26718         312.0  \n",
      "26719         275.0  \n",
      "26720         616.0  \n",
      "\n",
      "[25275 rows x 10 columns]\n"
     ]
    }
   ],
   "source": [
    "# add code here\n",
    "import pandas as pd\n",
    "\n",
    "dataFrame2a = pd.read_csv(\"task2a.csv\")\n",
    "#read the 2nd file without header\n",
    "dataFrame2b = pd.read_csv(\"task2b.csv\",names=['id_student', 'click_events'], header=None) \n",
    "#using the merge function to merge the 2 dataFrames\n",
    "dataFrameMerged = pd.merge(dataFrame2a, dataFrame2b, on=['id_student'] )\n",
    "#  Remove any rows that contain missing values using dropna() function  \n",
    "dataFrameMerged.dropna()\n",
    "#Remove all rows from the DataFrame where click_event is smaller than 10  \n",
    "dataFrameMerged = dataFrameMerged[dataFrameMerged.click_events >= 10]\n",
    "print(dataFrameMerged)"
   ]
  },
  {
   "cell_type": "markdown",
   "metadata": {},
   "source": [
    "### Requirement FR2.6 - Rename the score column"
   ]
  },
  {
   "cell_type": "code",
   "execution_count": 10,
   "metadata": {},
   "outputs": [
    {
     "name": "stdout",
     "output_type": "stream",
     "text": [
      "       Unnamed: 0  id_student gender                region  \\\n",
      "0               0       11391      M   East Anglian Region   \n",
      "1               1       28400      F              Scotland   \n",
      "2               2       31604      F     South East Region   \n",
      "3               3       32885      F  West Midlands Region   \n",
      "4               4       38053      M                 Wales   \n",
      "...           ...         ...    ...                   ...   \n",
      "26716       26741     2620947      F              Scotland   \n",
      "26717       26742     2645731      F   East Anglian Region   \n",
      "26718       26743     2648187      F          South Region   \n",
      "26719       26744     2679821      F     South East Region   \n",
      "26720       26745     2684003      F      Yorkshire Region   \n",
      "\n",
      "           highest_education age_band disability final_result  final_mark  \\\n",
      "0           HE Qualification     55<=          N         Pass        82.0   \n",
      "1           HE Qualification    35-55          N         Pass        67.0   \n",
      "2      A Level or Equivalent    35-55          N         Pass        76.0   \n",
      "3         Lower Than A Level     0-35          N         Pass        55.0   \n",
      "4      A Level or Equivalent    35-55          N         Pass        68.0   \n",
      "...                      ...      ...        ...          ...         ...   \n",
      "26716  A Level or Equivalent     0-35          Y  Distinction        89.0   \n",
      "26717     Lower Than A Level    35-55          N  Distinction        89.0   \n",
      "26718  A Level or Equivalent     0-35          Y         Pass        77.0   \n",
      "26719     Lower Than A Level    35-55          N    Withdrawn        92.0   \n",
      "26720       HE Qualification    35-55          N  Distinction        83.0   \n",
      "\n",
      "       click_events  \n",
      "0             934.0  \n",
      "1            1435.0  \n",
      "2            2158.0  \n",
      "3            1034.0  \n",
      "4            2445.0  \n",
      "...             ...  \n",
      "26716         476.0  \n",
      "26717         893.0  \n",
      "26718         312.0  \n",
      "26719         275.0  \n",
      "26720         616.0  \n",
      "\n",
      "[25275 rows x 10 columns]\n"
     ]
    }
   ],
   "source": [
    "# add code here\n",
    "import pandas as pd\n",
    "\n",
    "dataFrame2a = pd.read_csv(\"task2a.csv\")\n",
    "#read the 2nd file without header\n",
    "dataFrame2b = pd.read_csv(\"task2b.csv\",names=['id_student', 'click_events'], header=None) \n",
    "#using the merge function to merge the 2 dataFrames\n",
    "dataFrameMerged = pd.merge(dataFrame2a, dataFrame2b, on=['id_student'] )\n",
    "#  Remove any rows that contain missing values using dropna() function  \n",
    "dataFrameMerged.dropna()\n",
    "#Remove all rows from the DataFrame where click_event is smaller than 10  \n",
    "dataFrameMerged = dataFrameMerged[dataFrameMerged.click_events >= 10]\n",
    "#Rename the score column to final_mark\n",
    "dataFrameMerged = dataFrameMerged.rename(columns={'score': 'final_mark'})\n",
    "print(dataFrameMerged)"
   ]
  },
  {
   "cell_type": "markdown",
   "metadata": {},
   "source": [
    "### Requirement FR2.7 - Remove unnecessary column(s)"
   ]
  },
  {
   "cell_type": "code",
   "execution_count": 11,
   "metadata": {},
   "outputs": [
    {
     "name": "stdout",
     "output_type": "stream",
     "text": [
      "       Unnamed: 0  id_student gender age_band disability  final_mark  \\\n",
      "0               0       11391      M     55<=          N        82.0   \n",
      "1               1       28400      F    35-55          N        67.0   \n",
      "2               2       31604      F    35-55          N        76.0   \n",
      "3               3       32885      F     0-35          N        55.0   \n",
      "4               4       38053      M    35-55          N        68.0   \n",
      "...           ...         ...    ...      ...        ...         ...   \n",
      "26716       26741     2620947      F     0-35          Y        89.0   \n",
      "26717       26742     2645731      F    35-55          N        89.0   \n",
      "26718       26743     2648187      F     0-35          Y        77.0   \n",
      "26719       26744     2679821      F    35-55          N        92.0   \n",
      "26720       26745     2684003      F    35-55          N        83.0   \n",
      "\n",
      "       click_events  \n",
      "0             934.0  \n",
      "1            1435.0  \n",
      "2            2158.0  \n",
      "3            1034.0  \n",
      "4            2445.0  \n",
      "...             ...  \n",
      "26716         476.0  \n",
      "26717         893.0  \n",
      "26718         312.0  \n",
      "26719         275.0  \n",
      "26720         616.0  \n",
      "\n",
      "[25275 rows x 7 columns]\n"
     ]
    }
   ],
   "source": [
    "# add code here\n",
    "import pandas as pd\n",
    "\n",
    "dataFrame2a = pd.read_csv(\"task2a.csv\")\n",
    "#read the 2nd file without header\n",
    "dataFrame2b = pd.read_csv(\"task2b.csv\",names=['id_student', 'click_events'], header=None) \n",
    "#using the merge function to merge the 2 dataFrames\n",
    "dataFrameMerged = pd.merge(dataFrame2a, dataFrame2b, on=['id_student'] )\n",
    "#  Remove any rows that contain missing values using dropna() function  \n",
    "dataFrameMerged.dropna()\n",
    "#Remove all rows from the DataFrame where click_event is smaller than 10  \n",
    "dataFrameMerged = dataFrameMerged[dataFrameMerged.click_events >= 10]\n",
    "#Rename the score column to final_mark\n",
    "dataFrameMerged = dataFrameMerged.rename(columns={'score': 'final_mark'})\n",
    "#Remove unnecessary column(s) region, final_result and highest_education\n",
    "dataFrameMerged = dataFrameMerged.drop(['region', 'final_result' ,'highest_education'], axis=1)\n",
    "print(dataFrameMerged)"
   ]
  },
  {
   "cell_type": "markdown",
   "metadata": {},
   "source": [
    "### Requirement FR2.8 - Write the DataFrame data to a CSV file"
   ]
  },
  {
   "cell_type": "code",
   "execution_count": 12,
   "metadata": {},
   "outputs": [],
   "source": [
    "# add code here\n",
    "import pandas as pd\n",
    "\n",
    "dataFrame2a = pd.read_csv(\"task2a.csv\")\n",
    "#read the 2nd file without header\n",
    "dataFrame2b = pd.read_csv(\"task2b.csv\",names=['id_student', 'click_events'], header=None) \n",
    "#using the merge function to merge the 2 dataFrames\n",
    "dataFrameMerged = pd.merge(dataFrame2a, dataFrame2b, on=['id_student'] )\n",
    "#  Remove any rows that contain missing values using dropna() function  \n",
    "dataFrameMerged.dropna()\n",
    "#Remove all rows from the DataFrame where click_event is smaller than 10  \n",
    "dataFrameMerged = dataFrameMerged[dataFrameMerged.click_events >= 10]\n",
    "#Rename the score column to final_mark\n",
    "dataFrameMerged = dataFrameMerged.rename(columns={'score': 'final_mark'})\n",
    "#Remove unnecessary column(s) region, final_result and highest_education\n",
    "dataFrameMerged = dataFrameMerged.drop(['region', 'final_result' ,'highest_education'], axis=1)\n",
    "#Write the DataFrame data to a CSV file\n",
    "# the file name is update.csv\n",
    "dataFrameMerged.to_csv(\"update.csv\", sep='\\t')"
   ]
  },
  {
   "cell_type": "markdown",
   "metadata": {},
   "source": [
    "### Requirement FR2.9 - Investigate the effects of age-group on attainment and engagement"
   ]
  },
  {
   "cell_type": "code",
   "execution_count": 13,
   "metadata": {},
   "outputs": [
    {
     "name": "stdout",
     "output_type": "stream",
     "text": [
      "  age_band  final_mark\n",
      "0     0-35   72.503923\n",
      "1    35-55   75.035810\n",
      "2     55<=   77.718919\n"
     ]
    }
   ],
   "source": [
    "# add code here\n",
    "import pandas as pd\n",
    "import numpy as np\n",
    "\n",
    "#using mean from numpy to calculate the mean of final score\n",
    "df = pd.read_csv(\"update.csv\",delimiter=\"\\t\",index_col=False) \n",
    "df = df.groupby('age_band') \\\n",
    "       .agg({'final_mark':'mean'}) \\\n",
    "       .reset_index()\n",
    "\n",
    "print(df)"
   ]
  },
  {
   "cell_type": "markdown",
   "metadata": {},
   "source": [
    "### Requirement FR2.10 - Present the results of the age-group investigation using an appropriate visualisation"
   ]
  },
  {
   "cell_type": "code",
   "execution_count": 14,
   "metadata": {},
   "outputs": [
    {
     "data": {
      "image/png": "[encoded data removed]",
      "text/plain": [
       "<Figure size 1152x576 with 2 Axes>"
      ]
     },
     "metadata": {
      "needs_background": "light"
     },
     "output_type": "display_data"
    }
   ],
   "source": [
    "# add code here\n",
    "import pandas as pd\n",
    "import numpy as np\n",
    "import matplotlib.pyplot as plt\n",
    "from pandas.plotting import table\n",
    "\n",
    "df = pd.read_csv(\"update.csv\",delimiter=\"\\t\",index_col=False) \n",
    "df = df.groupby('age_band') \\\n",
    "       .agg({'final_mark':'mean'}) \\\n",
    "       .reset_index()\n",
    "\n",
    "\n",
    "plt.figure(figsize=(16,8))\n",
    "# plot chart\n",
    "ax1 = plt.subplot(121, aspect='equal')\n",
    "df.plot(kind='pie', y = 'final_mark', ax=ax1, autopct='%1.1f%%', \n",
    " startangle=90, shadow=False, labels=df['age_band'], legend = False, fontsize=14)\n",
    "\n",
    "# plot table\n",
    "ax2 = plt.subplot(122)\n",
    "plt.axis('off')\n",
    "tbl = table(ax2, df, loc='center')\n",
    "tbl.auto_set_font_size(False)\n",
    "tbl.set_fontsize(14)\n",
    "plt.show()"
   ]
  },
  {
   "cell_type": "markdown",
   "metadata": {},
   "source": [
    "### Requirement FR2.11 - Investigate the effects of engagement on attainment"
   ]
  },
  {
   "cell_type": "code",
   "execution_count": 14,
   "metadata": {},
   "outputs": [
    {
     "name": "stdout",
     "output_type": "stream",
     "text": [
      "Spearmans correlation: 0.314\n",
      "Pearsons correlation: 0.275\n"
     ]
    }
   ],
   "source": [
    "# add code here\n",
    "import pandas as pd\n",
    "import numpy as np\n",
    "\n",
    "from scipy.stats import pearsonr\n",
    "from scipy.stats import spearmanr\n",
    "#Read the file update.csv\n",
    "df = pd.read_csv(\"update.csv\",delimiter=\"\\t\",index_col=False) \n",
    "#read the culumn final mark from updater.csv into a list\n",
    "col_mark_list = df['final_mark'].tolist()\n",
    "#read the culumn click_event from updater.csv into a list\n",
    "col_click_list = df['click_events'].tolist() \n",
    "# remove NaN if any\n",
    "col_click_list = np.nan_to_num(col_click_list)\n",
    "col_mark_list = np.nan_to_num(col_mark_list)\n",
    "\n",
    "#calculate the correlation betw score and Click eventa\n",
    "\n",
    "# calculate Spearman's correlation\n",
    "corr, _ = spearmanr(col_click_list, col_mark_list)\n",
    "print('Spearmans correlation: %.3f' % corr)\n",
    "\n",
    "# calculate Pearson's correlation\n",
    "corr, _ = pearsonr(col_mark_list, col_click_list)\n",
    "print('Pearsons correlation: %.3f' % corr)"
   ]
  },
  {
   "cell_type": "markdown",
   "metadata": {},
   "source": [
    "### Requirement FR2.12 - Test the hypothesis that there is a significant effect on attainment"
   ]
  },
  {
   "cell_type": "code",
   "execution_count": 15,
   "metadata": {},
   "outputs": [
    {
     "name": "stdout",
     "output_type": "stream",
     "text": [
      "Clicks Events: mean=1800.615 stdv=2098.380\n",
      "Final marks: mean=73.246 stdv=15.619\n",
      "Spearmans correlation: 0.314\n",
      "Based on Spearmans correlation Probably The number of Clicks Not related to Final Score\n",
      "Pearsons correlation: 0.275\n",
      "Based on Pearson correlation Probably The number of Clicks Not related to Final Score\n"
     ]
    }
   ],
   "source": [
    "# add code here\n",
    "import pandas as pd\n",
    "import numpy as np\n",
    "from scipy.stats import pearsonr\n",
    "from scipy.stats import spearmanr\n",
    "\n",
    "#Read the file update.csv\n",
    "df = pd.read_csv(\"update.csv\",delimiter=\"\\t\",index_col=False) \n",
    "#read the culumn final mark from updater.csv into a list\n",
    "col_mark_list = df['final_mark'].tolist()\n",
    "#read the culumn click_event from updater.csv into a list\n",
    "col_click_list = df['click_events'].tolist() \n",
    "# remove NaN if any\n",
    "col_click_list = np.nan_to_num(col_click_list)\n",
    "col_mark_list = np.nan_to_num(col_mark_list)\n",
    "\n",
    "# Calculate the mean and the STD for both Final score and Click events\n",
    "print('Clicks Events: mean=%.3f stdv=%.3f' % (np.mean(col_click_list), np.std(col_click_list)))\n",
    "print('Final marks: mean=%.3f stdv=%.3f' % (np.mean(col_mark_list), np.std(col_mark_list)))\n",
    "\n",
    "# calculate Spearman's correlation\n",
    "corr, _ = spearmanr(col_click_list, col_mark_list)\n",
    "print('Spearmans correlation: %.3f' % corr)\n",
    "if corr < 0.5:\n",
    "       print('Based on Spearmans correlation Probably The number of Clicks Not related to Final Score')\n",
    "else:\n",
    "       print('Based on Spearmans correlation Probably The number of Clicks is related to Final Score')\n",
    "\n",
    "# calculate Pearson's correlation\n",
    "corr, _ = pearsonr(col_mark_list, col_click_list)\n",
    "print('Pearsons correlation: %.3f' % corr)\n",
    "if corr < 0.5:\n",
    "       print('Based on Pearson correlation Probably The number of Clicks Not related to Final Score')\n",
    "else:\n",
    "       print('Based on Pearson correlation Probably The number of Clicks is related to Final Score')"
   ]
  },
  {
   "cell_type": "markdown",
   "metadata": {},
   "source": [
    "# Process Development Report for Task 2\n",
    "\n",
    "Report for Programming Task 2\n",
    "The main objective after analyzing data is visualizing them in a readable form, to make it more understandable for decision making. There are several libraries available in Python to make related to visualization. The main objective of task 2 is to read big data, analyze the data and then visualize all of the provided data to get the required results. A brief explanation of all of the task requirements has been mentioned below:\n",
    "\n",
    "•\tF2.1:\n",
    "The provided data “task2a.cvs” has been imported with the header row, by using the Pandas library, and by default, the file is read into a data frame.\n",
    "•\tF2.2:\n",
    "Using the function of Pandas library helps in reading the file and adding the columns that are required. In this task, two of the columns were read from the entire file, and these two columns are Id_student and clicks_event.\n",
    "•\tF2.3:\n",
    "In the following task, two data frames were merged from the previous two tasks to form a new data frame, by using the Pandas function. Id_students is used as a Jon column between the two data frames \n",
    "•\tF2.4 :\n",
    "To drop the rows that contain missing values we use the function dropna() from the Pandas library. All the missing rows were cleared from the merged data frame.\n",
    "•\tF2.5:\n",
    "Filter values where event_clicks are less than 10 :\n",
    "To filter the data frame, we added the condition data frame.click_events >= 10 which resulted in a data frame containing only clicks_events greater than 10.\n",
    "•\tFR2.6 :\n",
    "It is required in the following task to rename the score column from score to final_mark. The following step was done, and the column’s name was changed by the use of a function called Pandas, as the function bypasses the old name with the new one as an argument.\n",
    "•\tFR2.7:\n",
    "Removing the unnecessary columns is required in the following task from the task2a.csv file. The following columns region, final_result, and highest_education were all removed from the merged data frame that was formed from the previous tasks.\n",
    "\n",
    "•\tFR2.8:\n",
    "In this task, Pandas was used to write the data frame into a CSV file using the function to_csv and passing the file name as an argument as mentioned in the task requirement \n",
    "\n",
    "•\tFR2.9:\n",
    "It is required in this task to find the average engagement and final mark for each age grouping, and this was done by the library NumPy, where we can group columns and calculate the mean in the same table \n",
    "\n",
    "•\tFR2.10:\n",
    "\n",
    "Using matplotlib and pandas we can visualize the grouping done in the take FR2.9 the result as shown above in the task itself.\n",
    "\n",
    "•\tFR2.11:\n",
    "\n",
    "Using scipy we can calculate the correlation between the click events and the final score we can calculate two correlation indexes pearson’s and spearman’s index.\n",
    "If the results are as near to 1 then it means that the engagement affects the final scores else, it means that it does not depend on each other. As per my finding, the correlation is >1, which means that there is no dependency and correlation between the click events and the final score\n",
    "\n",
    "•\tFR2.12:\n",
    "In the last we can conclude this task by the finding of the correlation index which is less than 0.5, therefore, there is no dependency between the engagement and the final score since both indexes came as follows:\n",
    "•\tSpearman’sns correlation: 0.314\n",
    "•\tPearsons correlation: 0.275\n",
    "Since the correlation came as less than 1, so there is no decency between the engagement which is the number of clicks, and the final mark\n",
    "\n",
    "In conclusion, this task has taught me the basics of visualization and helped me understand the relationship between the two sets and the grouping of data from any two different sets. \n"
   ]
  }
 ],
 "metadata": {
  "kernelspec": {
   "display_name": "Python 3",
   "language": "python",
   "name": "python3"
  },
  "language_info": {
   "codemirror_mode": {
    "name": "ipython",
    "version": 3
   },
   "file_extension": ".py",
   "mimetype": "text/x-python",
   "name": "python",
   "nbconvert_exporter": "python",
   "pygments_lexer": "ipython3",
   "version": "3.8.8"
  }
 },
 "nbformat": 4,
 "nbformat_minor": 4
}
